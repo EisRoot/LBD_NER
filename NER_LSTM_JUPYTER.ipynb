{
 "cells": [
  {
   "cell_type": "code",
   "execution_count": 1,
   "metadata": {
    "pycharm": {
     "is_executing": false
    }
   },
   "outputs": [
    {
     "data": {
      "text/plain": [
       "<Figure size 640x480 with 1 Axes>"
      ]
     },
     "metadata": {},
     "output_type": "display_data"
    }
   ],
   "source": [
    "import pandas as pd\n",
    "\n",
    "class SentenceGetter(object):\n",
    "\n",
    "    def __init__(self, data):\n",
    "        self.n_sent = 0\n",
    "        self.data = data\n",
    "        self.empty = False\n",
    "        agg_func = lambda s: [(str(w), p, t) for w, p, t in zip(s[\"WORD\"].values.tolist(),\n",
    "                                                           s[\"POS\"].values.tolist(),\n",
    "                                                           s[\"CAT\"].values.tolist())]\n",
    "        self.grouped = self.data.groupby(\"SENT_NO\").apply(agg_func)\n",
    "        self.sentences = [s for s in self.grouped]\n",
    "\n",
    "    def get_next(self):\n",
    "        try:\n",
    "            s = self.grouped[str(self.n_sent)]\n",
    "            self.n_sent += 1\n",
    "            return s\n",
    "        except:\n",
    "            return None\n",
    "\n",
    "def word2features(sent, i):\n",
    "\n",
    "    word = sent[i][0]\n",
    "    postag = sent[i][1]\n",
    "    features = {\n",
    "    'bias': 1.0,\n",
    "    'word.lower()': word.lower(),\n",
    "    'word[-3:]': word[-3:],\n",
    "    'word[-2:]': word[-2:],\n",
    "    'word.isupper()': word.isupper(),\n",
    "    'word.istitle()': word.istitle(),\n",
    "    'word.isdigit()': word.isdigit(),\n",
    "    'word':word,\n",
    "    'postag': postag,\n",
    "\n",
    "    }\n",
    "    if i > 0:\n",
    "        word1 = sent[i-1][0]\n",
    "        postag1 = sent[i-1][1]\n",
    "        features.update({\n",
    "        '-1:word.lower()': word1.lower(),\n",
    "        '-1:word.istitle()': word1.istitle(),\n",
    "        '-1:word.isupper()': word1.isupper(),\n",
    "        '-1:postag': postag1,\n",
    "        '-1:postag[:2]': postag1[:2],\n",
    "        })\n",
    "    else:features['BOS'] = True\n",
    "    if i < len(sent)-1:\n",
    "        word1 = sent[i+1][0]\n",
    "        postag1 = sent[i+1][1]\n",
    "        features.update({\n",
    "        '+1:word.lower()': word1.lower(),\n",
    "        '+1:word.istitle()': word1.istitle(),\n",
    "        '+1:word.isupper()': word1.isupper(),\n",
    "        '+1:postag': postag1,\n",
    "        })\n",
    "    else:features['EOS'] = True\n",
    "    return features\n",
    "def sent2features(sent):\n",
    "    return [word2features(sent, i) for i in range(len(sent))]\n",
    "def sent2labels(sent):\n",
    "    return [label for token, postag, label in sent]\n",
    "def sent2tokens(sent):\n",
    "    return [token for token, postag, label in sent]\n",
    "\n",
    "\n",
    "corpus=pd.read_csv('C:\\\\Users\\\\dell\\\\PycharmProjects\\\\LBD_test\\\\NCBI_corpus_trainset.csv',index_col=0,dtype='str')\n",
    "getter=SentenceGetter(corpus)\n",
    "sentences = getter.sentences\n",
    "X = [sent2features(s) for s in sentences]\n",
    "y = [sent2labels(s) for s in sentences]\n",
    "import matplotlib.pyplot as plt\n",
    "plt.style.use(\"ggplot\")\n",
    "plt.hist([len(s) for s in sentences], bins=50)\n",
    "plt.show()\n",
    "\n",
    "\n"
   ]
  },
  {
   "cell_type": "code",
   "execution_count": null,
   "metadata": {},
   "outputs": [],
   "source": []
  }
 ],
 "metadata": {
  "kernelspec": {
   "display_name": "PyCharm (LBD_test)",
   "language": "python",
   "name": "pycharm-842345d9"
  },
  "language_info": {
   "codemirror_mode": {
    "name": "ipython",
    "version": 3
   },
   "file_extension": ".py",
   "mimetype": "text/x-python",
   "name": "python",
   "nbconvert_exporter": "python",
   "pygments_lexer": "ipython3",
   "version": "3.7.3"
  }
 },
 "nbformat": 4,
 "nbformat_minor": 1
}
